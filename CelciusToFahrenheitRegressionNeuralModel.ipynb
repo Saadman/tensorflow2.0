{
  "nbformat": 4,
  "nbformat_minor": 0,
  "metadata": {
    "colab": {
      "name": " CelciusToFahrenheitRegressionNeuralModel.ipynb",
      "provenance": [],
      "collapsed_sections": [],
      "include_colab_link": true
    },
    "kernelspec": {
      "name": "python3",
      "display_name": "Python 3"
    },
    "accelerator": "GPU"
  },
  "cells": [
    {
      "cell_type": "markdown",
      "metadata": {
        "id": "view-in-github",
        "colab_type": "text"
      },
      "source": [
        "<a href=\"https://colab.research.google.com/github/Saadman/tensorflow2.0_projects/blob/master/CelciusToFahrenheitRegressionNeuralModel.ipynb\" target=\"_parent\"><img src=\"https://colab.research.google.com/assets/colab-badge.svg\" alt=\"Open In Colab\"/></a>"
      ]
    },
    {
      "cell_type": "markdown",
      "metadata": {
        "id": "M27qF7CTrBqc",
        "colab_type": "text"
      },
      "source": [
        "# PROBLEM STATEMENT"
      ]
    },
    {
      "cell_type": "markdown",
      "metadata": {
        "id": "iCj2rwwHBB1I",
        "colab_type": "text"
      },
      "source": [
        "\n",
        "- In this project, we will build a simple machine learning model to convert from celsius to fahrenheit. \n",
        "- The equation is as follows: **T(°F) = T(°C) × 9/5 + 32**\n",
        "- For Example, let's convert 0°C celsius temperature to Fahrenheit:  **(0°C × 9/5) + 32 = 32°F**\n"
      ]
    },
    {
      "cell_type": "markdown",
      "metadata": {
        "id": "Z2ZMlH-gtOxf",
        "colab_type": "text"
      },
      "source": [
        "\n",
        "<table>\n",
        "  <tr><td>\n",
        "    <img src=\"https://upload.wikimedia.org/wikipedia/commons/7/70/Thermometer_CF.svg\"\n",
        "         alt=\"Fashion MNIST sprite\"  width=\"600\">\n",
        "  </td></tr>\n",
        "  <tr><td align=\"center\">\n",
        "    <b>Figure 1. Convert Celsius to Fahrenheit [Image Source: https://commons.wikimedia.org/wiki/File:Thermometer_CF.svg]\n",
        "  </td></tr>\n",
        "</table>\n"
      ]
    },
    {
      "cell_type": "markdown",
      "metadata": {
        "id": "zKmFmyaGunc7",
        "colab_type": "text"
      },
      "source": [
        "# STEP #0: IMPORT LIBRARIES"
      ]
    },
    {
      "cell_type": "code",
      "metadata": {
        "id": "S0Cx3743urFY",
        "colab_type": "code",
        "colab": {
          "base_uri": "https://localhost:8080/",
          "height": 582
        },
        "outputId": "32d1be46-aa19-48b6-8de4-7b1947edb4da"
      },
      "source": [
        "!pip install tensorflow-gpu==2.0.0.alpha0"
      ],
      "execution_count": 3,
      "outputs": [
        {
          "output_type": "stream",
          "text": [
            "Collecting tensorflow-gpu==2.0.0.alpha0\n",
            "\u001b[?25l  Downloading https://files.pythonhosted.org/packages/1a/66/32cffad095253219d53f6b6c2a436637bbe45ac4e7be0244557210dc3918/tensorflow_gpu-2.0.0a0-cp36-cp36m-manylinux1_x86_64.whl (332.1MB)\n",
            "\u001b[K     |████████████████████████████████| 332.1MB 48kB/s \n",
            "\u001b[?25hRequirement already satisfied: wheel>=0.26 in /usr/local/lib/python3.6/dist-packages (from tensorflow-gpu==2.0.0.alpha0) (0.33.6)\n",
            "Requirement already satisfied: keras-applications>=1.0.6 in /usr/local/lib/python3.6/dist-packages (from tensorflow-gpu==2.0.0.alpha0) (1.0.8)\n",
            "Requirement already satisfied: keras-preprocessing>=1.0.5 in /usr/local/lib/python3.6/dist-packages (from tensorflow-gpu==2.0.0.alpha0) (1.1.0)\n",
            "Collecting tf-estimator-nightly<1.14.0.dev2019030116,>=1.14.0.dev2019030115\n",
            "\u001b[?25l  Downloading https://files.pythonhosted.org/packages/13/82/f16063b4eed210dc2ab057930ac1da4fbe1e91b7b051a6c8370b401e6ae7/tf_estimator_nightly-1.14.0.dev2019030115-py2.py3-none-any.whl (411kB)\n",
            "\u001b[K     |████████████████████████████████| 419kB 46.4MB/s \n",
            "\u001b[?25hCollecting tb-nightly<1.14.0a20190302,>=1.14.0a20190301\n",
            "\u001b[?25l  Downloading https://files.pythonhosted.org/packages/a9/51/aa1d756644bf4624c03844115e4ac4058eff77acd786b26315f051a4b195/tb_nightly-1.14.0a20190301-py3-none-any.whl (3.0MB)\n",
            "\u001b[K     |████████████████████████████████| 3.0MB 49.9MB/s \n",
            "\u001b[?25hRequirement already satisfied: numpy<2.0,>=1.14.5 in /usr/local/lib/python3.6/dist-packages (from tensorflow-gpu==2.0.0.alpha0) (1.17.4)\n",
            "Requirement already satisfied: protobuf>=3.6.1 in /usr/local/lib/python3.6/dist-packages (from tensorflow-gpu==2.0.0.alpha0) (3.10.0)\n",
            "Requirement already satisfied: google-pasta>=0.1.2 in /usr/local/lib/python3.6/dist-packages (from tensorflow-gpu==2.0.0.alpha0) (0.1.8)\n",
            "Requirement already satisfied: gast>=0.2.0 in /usr/local/lib/python3.6/dist-packages (from tensorflow-gpu==2.0.0.alpha0) (0.2.2)\n",
            "Requirement already satisfied: grpcio>=1.8.6 in /usr/local/lib/python3.6/dist-packages (from tensorflow-gpu==2.0.0.alpha0) (1.15.0)\n",
            "Requirement already satisfied: astor>=0.6.0 in /usr/local/lib/python3.6/dist-packages (from tensorflow-gpu==2.0.0.alpha0) (0.8.1)\n",
            "Requirement already satisfied: termcolor>=1.1.0 in /usr/local/lib/python3.6/dist-packages (from tensorflow-gpu==2.0.0.alpha0) (1.1.0)\n",
            "Requirement already satisfied: six>=1.10.0 in /usr/local/lib/python3.6/dist-packages (from tensorflow-gpu==2.0.0.alpha0) (1.12.0)\n",
            "Requirement already satisfied: absl-py>=0.7.0 in /usr/local/lib/python3.6/dist-packages (from tensorflow-gpu==2.0.0.alpha0) (0.8.1)\n",
            "Requirement already satisfied: h5py in /usr/local/lib/python3.6/dist-packages (from keras-applications>=1.0.6->tensorflow-gpu==2.0.0.alpha0) (2.8.0)\n",
            "Requirement already satisfied: markdown>=2.6.8 in /usr/local/lib/python3.6/dist-packages (from tb-nightly<1.14.0a20190302,>=1.14.0a20190301->tensorflow-gpu==2.0.0.alpha0) (3.1.1)\n",
            "Requirement already satisfied: werkzeug>=0.11.15 in /usr/local/lib/python3.6/dist-packages (from tb-nightly<1.14.0a20190302,>=1.14.0a20190301->tensorflow-gpu==2.0.0.alpha0) (0.16.0)\n",
            "Requirement already satisfied: setuptools in /usr/local/lib/python3.6/dist-packages (from protobuf>=3.6.1->tensorflow-gpu==2.0.0.alpha0) (42.0.2)\n",
            "Installing collected packages: tf-estimator-nightly, tb-nightly, tensorflow-gpu\n",
            "Successfully installed tb-nightly-1.14.0a20190301 tensorflow-gpu-2.0.0a0 tf-estimator-nightly-1.14.0.dev2019030115\n"
          ],
          "name": "stdout"
        },
        {
          "output_type": "display_data",
          "data": {
            "application/vnd.colab-display-data+json": {
              "pip_warning": {
                "packages": [
                  "tensorboard",
                  "tensorflow",
                  "tensorflow_estimator"
                ]
              }
            }
          },
          "metadata": {
            "tags": []
          }
        }
      ]
    },
    {
      "cell_type": "code",
      "metadata": {
        "id": "gOOZsH0bovck",
        "colab_type": "code",
        "colab": {
          "base_uri": "https://localhost:8080/",
          "height": 445
        },
        "outputId": "89cc682c-cf79-4327-a133-34b3088a4fc4"
      },
      "source": [
        "import tensorflow as tf\n",
        "import seaborn as sns\n",
        "import numpy as np\n",
        "import pandas as pd\n",
        "import matplotlib.pyplot as plt"
      ],
      "execution_count": 1,
      "outputs": [
        {
          "output_type": "stream",
          "text": [
            "/usr/local/lib/python3.6/dist-packages/tensorflow/python/framework/dtypes.py:523: FutureWarning: Passing (type, 1) or '1type' as a synonym of type is deprecated; in a future version of numpy, it will be understood as (type, (1,)) / '(1,)type'.\n",
            "  _np_qint8 = np.dtype([(\"qint8\", np.int8, 1)])\n",
            "/usr/local/lib/python3.6/dist-packages/tensorflow/python/framework/dtypes.py:524: FutureWarning: Passing (type, 1) or '1type' as a synonym of type is deprecated; in a future version of numpy, it will be understood as (type, (1,)) / '(1,)type'.\n",
            "  _np_quint8 = np.dtype([(\"quint8\", np.uint8, 1)])\n",
            "/usr/local/lib/python3.6/dist-packages/tensorflow/python/framework/dtypes.py:525: FutureWarning: Passing (type, 1) or '1type' as a synonym of type is deprecated; in a future version of numpy, it will be understood as (type, (1,)) / '(1,)type'.\n",
            "  _np_qint16 = np.dtype([(\"qint16\", np.int16, 1)])\n",
            "/usr/local/lib/python3.6/dist-packages/tensorflow/python/framework/dtypes.py:526: FutureWarning: Passing (type, 1) or '1type' as a synonym of type is deprecated; in a future version of numpy, it will be understood as (type, (1,)) / '(1,)type'.\n",
            "  _np_quint16 = np.dtype([(\"quint16\", np.uint16, 1)])\n",
            "/usr/local/lib/python3.6/dist-packages/tensorflow/python/framework/dtypes.py:527: FutureWarning: Passing (type, 1) or '1type' as a synonym of type is deprecated; in a future version of numpy, it will be understood as (type, (1,)) / '(1,)type'.\n",
            "  _np_qint32 = np.dtype([(\"qint32\", np.int32, 1)])\n",
            "/usr/local/lib/python3.6/dist-packages/tensorflow/python/framework/dtypes.py:532: FutureWarning: Passing (type, 1) or '1type' as a synonym of type is deprecated; in a future version of numpy, it will be understood as (type, (1,)) / '(1,)type'.\n",
            "  np_resource = np.dtype([(\"resource\", np.ubyte, 1)])\n",
            "/usr/local/lib/python3.6/dist-packages/tensorboard/compat/tensorflow_stub/dtypes.py:541: FutureWarning: Passing (type, 1) or '1type' as a synonym of type is deprecated; in a future version of numpy, it will be understood as (type, (1,)) / '(1,)type'.\n",
            "  _np_qint8 = np.dtype([(\"qint8\", np.int8, 1)])\n",
            "/usr/local/lib/python3.6/dist-packages/tensorboard/compat/tensorflow_stub/dtypes.py:542: FutureWarning: Passing (type, 1) or '1type' as a synonym of type is deprecated; in a future version of numpy, it will be understood as (type, (1,)) / '(1,)type'.\n",
            "  _np_quint8 = np.dtype([(\"quint8\", np.uint8, 1)])\n",
            "/usr/local/lib/python3.6/dist-packages/tensorboard/compat/tensorflow_stub/dtypes.py:543: FutureWarning: Passing (type, 1) or '1type' as a synonym of type is deprecated; in a future version of numpy, it will be understood as (type, (1,)) / '(1,)type'.\n",
            "  _np_qint16 = np.dtype([(\"qint16\", np.int16, 1)])\n",
            "/usr/local/lib/python3.6/dist-packages/tensorboard/compat/tensorflow_stub/dtypes.py:544: FutureWarning: Passing (type, 1) or '1type' as a synonym of type is deprecated; in a future version of numpy, it will be understood as (type, (1,)) / '(1,)type'.\n",
            "  _np_quint16 = np.dtype([(\"quint16\", np.uint16, 1)])\n",
            "/usr/local/lib/python3.6/dist-packages/tensorboard/compat/tensorflow_stub/dtypes.py:545: FutureWarning: Passing (type, 1) or '1type' as a synonym of type is deprecated; in a future version of numpy, it will be understood as (type, (1,)) / '(1,)type'.\n",
            "  _np_qint32 = np.dtype([(\"qint32\", np.int32, 1)])\n",
            "/usr/local/lib/python3.6/dist-packages/tensorboard/compat/tensorflow_stub/dtypes.py:550: FutureWarning: Passing (type, 1) or '1type' as a synonym of type is deprecated; in a future version of numpy, it will be understood as (type, (1,)) / '(1,)type'.\n",
            "  np_resource = np.dtype([(\"resource\", np.ubyte, 1)])\n"
          ],
          "name": "stderr"
        }
      ]
    },
    {
      "cell_type": "markdown",
      "metadata": {
        "id": "uAE6Icc0uylP",
        "colab_type": "text"
      },
      "source": [
        "# STEP #1: IMPORT DATASETS"
      ]
    },
    {
      "cell_type": "code",
      "metadata": {
        "id": "5P_ciLXawMZg",
        "colab_type": "code",
        "colab": {
          "base_uri": "https://localhost:8080/",
          "height": 122
        },
        "outputId": "03a9d193-1cb4-4ce2-bb41-109a9176f261"
      },
      "source": [
        "# You will need to mount your drive using the following commands:\n",
        "# For more information regarding mounting, please check this out: https://stackoverflow.com/questions/46986398/import-data-into-google-colaboratory\n",
        "\n",
        "from google.colab import drive\n",
        "drive.mount('/content/drive')"
      ],
      "execution_count": 2,
      "outputs": [
        {
          "output_type": "stream",
          "text": [
            "Go to this URL in a browser: https://accounts.google.com/o/oauth2/auth?client_id=947318989803-6bn6qk8qdgf4n4g3pfee6491hc0brc4i.apps.googleusercontent.com&redirect_uri=urn%3aietf%3awg%3aoauth%3a2.0%3aoob&response_type=code&scope=email%20https%3a%2f%2fwww.googleapis.com%2fauth%2fdocs.test%20https%3a%2f%2fwww.googleapis.com%2fauth%2fdrive%20https%3a%2f%2fwww.googleapis.com%2fauth%2fdrive.photos.readonly%20https%3a%2f%2fwww.googleapis.com%2fauth%2fpeopleapi.readonly\n",
            "\n",
            "Enter your authorization code:\n",
            "··········\n",
            "Mounted at /content/drive\n"
          ],
          "name": "stdout"
        }
      ]
    },
    {
      "cell_type": "code",
      "metadata": {
        "id": "tjIiJdM4u1IE",
        "colab_type": "code",
        "colab": {}
      },
      "source": [
        "# You have to include the full link to the csv file containing your dataset\n",
        "Temperature_df = pd.read_csv('/content/drive/My Drive/Colab Notebooks/tensorflow2/data/Celsius-to-Fahrenheit.csv')\n",
        "Temperature_df.reset_index(drop=True, inplace=True)\n",
        "\n"
      ],
      "execution_count": 0,
      "outputs": []
    },
    {
      "cell_type": "code",
      "metadata": {
        "id": "q4_wPDKCu5Uc",
        "colab_type": "code",
        "colab": {
          "base_uri": "https://localhost:8080/",
          "height": 34
        },
        "outputId": "593f186a-159d-4581-e0d3-055bbbbd4651"
      },
      "source": [
        "Temperature_df.shape"
      ],
      "execution_count": 4,
      "outputs": [
        {
          "output_type": "execute_result",
          "data": {
            "text/plain": [
              "(30, 2)"
            ]
          },
          "metadata": {
            "tags": []
          },
          "execution_count": 4
        }
      ]
    },
    {
      "cell_type": "code",
      "metadata": {
        "id": "E7puy9-xxS4A",
        "colab_type": "code",
        "colab": {
          "base_uri": "https://localhost:8080/",
          "height": 204
        },
        "outputId": "1b65dea9-c9db-4796-9482-010861de840f"
      },
      "source": [
        "Temperature_df.head(5)"
      ],
      "execution_count": 5,
      "outputs": [
        {
          "output_type": "execute_result",
          "data": {
            "text/html": [
              "<div>\n",
              "<style scoped>\n",
              "    .dataframe tbody tr th:only-of-type {\n",
              "        vertical-align: middle;\n",
              "    }\n",
              "\n",
              "    .dataframe tbody tr th {\n",
              "        vertical-align: top;\n",
              "    }\n",
              "\n",
              "    .dataframe thead th {\n",
              "        text-align: right;\n",
              "    }\n",
              "</style>\n",
              "<table border=\"1\" class=\"dataframe\">\n",
              "  <thead>\n",
              "    <tr style=\"text-align: right;\">\n",
              "      <th></th>\n",
              "      <th>Celsius</th>\n",
              "      <th>Fahrenheit</th>\n",
              "    </tr>\n",
              "  </thead>\n",
              "  <tbody>\n",
              "    <tr>\n",
              "      <th>0</th>\n",
              "      <td>-50</td>\n",
              "      <td>-58.0</td>\n",
              "    </tr>\n",
              "    <tr>\n",
              "      <th>1</th>\n",
              "      <td>-40</td>\n",
              "      <td>-40.0</td>\n",
              "    </tr>\n",
              "    <tr>\n",
              "      <th>2</th>\n",
              "      <td>-30</td>\n",
              "      <td>-22.0</td>\n",
              "    </tr>\n",
              "    <tr>\n",
              "      <th>3</th>\n",
              "      <td>-20</td>\n",
              "      <td>-4.0</td>\n",
              "    </tr>\n",
              "    <tr>\n",
              "      <th>4</th>\n",
              "      <td>-10</td>\n",
              "      <td>14.0</td>\n",
              "    </tr>\n",
              "  </tbody>\n",
              "</table>\n",
              "</div>"
            ],
            "text/plain": [
              "   Celsius  Fahrenheit\n",
              "0      -50       -58.0\n",
              "1      -40       -40.0\n",
              "2      -30       -22.0\n",
              "3      -20        -4.0\n",
              "4      -10        14.0"
            ]
          },
          "metadata": {
            "tags": []
          },
          "execution_count": 5
        }
      ]
    },
    {
      "cell_type": "code",
      "metadata": {
        "id": "RUt2ON_UxyYk",
        "colab_type": "code",
        "colab": {
          "base_uri": "https://localhost:8080/",
          "height": 359
        },
        "outputId": "6ec07d24-7ef9-4dcb-9273-6e415cf73f1b"
      },
      "source": [
        "Temperature_df.tail(10)"
      ],
      "execution_count": 6,
      "outputs": [
        {
          "output_type": "execute_result",
          "data": {
            "text/html": [
              "<div>\n",
              "<style scoped>\n",
              "    .dataframe tbody tr th:only-of-type {\n",
              "        vertical-align: middle;\n",
              "    }\n",
              "\n",
              "    .dataframe tbody tr th {\n",
              "        vertical-align: top;\n",
              "    }\n",
              "\n",
              "    .dataframe thead th {\n",
              "        text-align: right;\n",
              "    }\n",
              "</style>\n",
              "<table border=\"1\" class=\"dataframe\">\n",
              "  <thead>\n",
              "    <tr style=\"text-align: right;\">\n",
              "      <th></th>\n",
              "      <th>Celsius</th>\n",
              "      <th>Fahrenheit</th>\n",
              "    </tr>\n",
              "  </thead>\n",
              "  <tbody>\n",
              "    <tr>\n",
              "      <th>20</th>\n",
              "      <td>6</td>\n",
              "      <td>42.8</td>\n",
              "    </tr>\n",
              "    <tr>\n",
              "      <th>21</th>\n",
              "      <td>7</td>\n",
              "      <td>44.6</td>\n",
              "    </tr>\n",
              "    <tr>\n",
              "      <th>22</th>\n",
              "      <td>8</td>\n",
              "      <td>46.4</td>\n",
              "    </tr>\n",
              "    <tr>\n",
              "      <th>23</th>\n",
              "      <td>9</td>\n",
              "      <td>48.2</td>\n",
              "    </tr>\n",
              "    <tr>\n",
              "      <th>24</th>\n",
              "      <td>10</td>\n",
              "      <td>50.0</td>\n",
              "    </tr>\n",
              "    <tr>\n",
              "      <th>25</th>\n",
              "      <td>20</td>\n",
              "      <td>68.0</td>\n",
              "    </tr>\n",
              "    <tr>\n",
              "      <th>26</th>\n",
              "      <td>30</td>\n",
              "      <td>86.0</td>\n",
              "    </tr>\n",
              "    <tr>\n",
              "      <th>27</th>\n",
              "      <td>40</td>\n",
              "      <td>104.0</td>\n",
              "    </tr>\n",
              "    <tr>\n",
              "      <th>28</th>\n",
              "      <td>50</td>\n",
              "      <td>122.0</td>\n",
              "    </tr>\n",
              "    <tr>\n",
              "      <th>29</th>\n",
              "      <td>60</td>\n",
              "      <td>140.0</td>\n",
              "    </tr>\n",
              "  </tbody>\n",
              "</table>\n",
              "</div>"
            ],
            "text/plain": [
              "    Celsius  Fahrenheit\n",
              "20        6        42.8\n",
              "21        7        44.6\n",
              "22        8        46.4\n",
              "23        9        48.2\n",
              "24       10        50.0\n",
              "25       20        68.0\n",
              "26       30        86.0\n",
              "27       40       104.0\n",
              "28       50       122.0\n",
              "29       60       140.0"
            ]
          },
          "metadata": {
            "tags": []
          },
          "execution_count": 6
        }
      ]
    },
    {
      "cell_type": "code",
      "metadata": {
        "id": "hMq3-KWOx0e1",
        "colab_type": "code",
        "colab": {
          "base_uri": "https://localhost:8080/",
          "height": 136
        },
        "outputId": "1d9ca04e-e318-45f6-b358-c762fa18eb6c"
      },
      "source": [
        "Temperature_df.info()"
      ],
      "execution_count": 7,
      "outputs": [
        {
          "output_type": "stream",
          "text": [
            "<class 'pandas.core.frame.DataFrame'>\n",
            "RangeIndex: 30 entries, 0 to 29\n",
            "Data columns (total 2 columns):\n",
            "Celsius       30 non-null int64\n",
            "Fahrenheit    30 non-null float64\n",
            "dtypes: float64(1), int64(1)\n",
            "memory usage: 608.0 bytes\n"
          ],
          "name": "stdout"
        }
      ]
    },
    {
      "cell_type": "code",
      "metadata": {
        "id": "s0E9xPLdx2Ok",
        "colab_type": "code",
        "colab": {
          "base_uri": "https://localhost:8080/",
          "height": 297
        },
        "outputId": "2d14499a-e408-40ba-9d77-905e25839dcf"
      },
      "source": [
        "Temperature_df.describe()"
      ],
      "execution_count": 8,
      "outputs": [
        {
          "output_type": "execute_result",
          "data": {
            "text/html": [
              "<div>\n",
              "<style scoped>\n",
              "    .dataframe tbody tr th:only-of-type {\n",
              "        vertical-align: middle;\n",
              "    }\n",
              "\n",
              "    .dataframe tbody tr th {\n",
              "        vertical-align: top;\n",
              "    }\n",
              "\n",
              "    .dataframe thead th {\n",
              "        text-align: right;\n",
              "    }\n",
              "</style>\n",
              "<table border=\"1\" class=\"dataframe\">\n",
              "  <thead>\n",
              "    <tr style=\"text-align: right;\">\n",
              "      <th></th>\n",
              "      <th>Celsius</th>\n",
              "      <th>Fahrenheit</th>\n",
              "    </tr>\n",
              "  </thead>\n",
              "  <tbody>\n",
              "    <tr>\n",
              "      <th>count</th>\n",
              "      <td>30.000000</td>\n",
              "      <td>30.000000</td>\n",
              "    </tr>\n",
              "    <tr>\n",
              "      <th>mean</th>\n",
              "      <td>2.000000</td>\n",
              "      <td>35.600000</td>\n",
              "    </tr>\n",
              "    <tr>\n",
              "      <th>std</th>\n",
              "      <td>22.780815</td>\n",
              "      <td>41.005466</td>\n",
              "    </tr>\n",
              "    <tr>\n",
              "      <th>min</th>\n",
              "      <td>-50.000000</td>\n",
              "      <td>-58.000000</td>\n",
              "    </tr>\n",
              "    <tr>\n",
              "      <th>25%</th>\n",
              "      <td>-6.750000</td>\n",
              "      <td>19.850000</td>\n",
              "    </tr>\n",
              "    <tr>\n",
              "      <th>50%</th>\n",
              "      <td>0.500000</td>\n",
              "      <td>32.900000</td>\n",
              "    </tr>\n",
              "    <tr>\n",
              "      <th>75%</th>\n",
              "      <td>7.750000</td>\n",
              "      <td>45.950000</td>\n",
              "    </tr>\n",
              "    <tr>\n",
              "      <th>max</th>\n",
              "      <td>60.000000</td>\n",
              "      <td>140.000000</td>\n",
              "    </tr>\n",
              "  </tbody>\n",
              "</table>\n",
              "</div>"
            ],
            "text/plain": [
              "         Celsius  Fahrenheit\n",
              "count  30.000000   30.000000\n",
              "mean    2.000000   35.600000\n",
              "std    22.780815   41.005466\n",
              "min   -50.000000  -58.000000\n",
              "25%    -6.750000   19.850000\n",
              "50%     0.500000   32.900000\n",
              "75%     7.750000   45.950000\n",
              "max    60.000000  140.000000"
            ]
          },
          "metadata": {
            "tags": []
          },
          "execution_count": 8
        }
      ]
    },
    {
      "cell_type": "markdown",
      "metadata": {
        "id": "LlszUhNNyrl_",
        "colab_type": "text"
      },
      "source": [
        "# STEP #2: VISUALIZE DATASET"
      ]
    },
    {
      "cell_type": "code",
      "metadata": {
        "id": "TYcWopZVyvAs",
        "colab_type": "code",
        "colab": {
          "base_uri": "https://localhost:8080/",
          "height": 296
        },
        "outputId": "06a2193f-cd41-48d1-9683-eb2bc81c6360"
      },
      "source": [
        "sns.scatterplot(Temperature_df['Celsius'], Temperature_df['Fahrenheit'])\n"
      ],
      "execution_count": 10,
      "outputs": [
        {
          "output_type": "execute_result",
          "data": {
            "text/plain": [
              "<matplotlib.axes._subplots.AxesSubplot at 0x7fdb93fe7780>"
            ]
          },
          "metadata": {
            "tags": []
          },
          "execution_count": 10
        },
        {
          "output_type": "display_data",
          "data": {
            "image/png": "[encoded data removed]",
            "text/plain": [
              "<Figure size 432x288 with 1 Axes>"
            ]
          },
          "metadata": {
            "tags": []
          }
        }
      ]
    },
    {
      "cell_type": "markdown",
      "metadata": {
        "id": "Y0GmpAjG3GiH",
        "colab_type": "text"
      },
      "source": [
        "# STEP #3: CREATE TESTING AND TRAINING DATASET"
      ]
    },
    {
      "cell_type": "code",
      "metadata": {
        "id": "0-maV8hb9rYM",
        "colab_type": "code",
        "colab": {}
      },
      "source": [
        "X_train = Temperature_df['Celsius']\n",
        "y_train = Temperature_df['Fahrenheit']\n"
      ],
      "execution_count": 0,
      "outputs": []
    },
    {
      "cell_type": "markdown",
      "metadata": {
        "id": "53qDZFRn3-S1",
        "colab_type": "text"
      },
      "source": [
        "# STEP#4: BUILD AND TRAIN THE MODEL"
      ]
    },
    {
      "cell_type": "code",
      "metadata": {
        "id": "DqIp8uvJ3cGi",
        "colab_type": "code",
        "colab": {
          "base_uri": "https://localhost:8080/",
          "height": 34
        },
        "outputId": "aca56c62-269b-4efb-d967-fdbd1cd0e950"
      },
      "source": [
        "X_train.shape"
      ],
      "execution_count": 12,
      "outputs": [
        {
          "output_type": "execute_result",
          "data": {
            "text/plain": [
              "(30,)"
            ]
          },
          "metadata": {
            "tags": []
          },
          "execution_count": 12
        }
      ]
    },
    {
      "cell_type": "code",
      "metadata": {
        "id": "d4wfApza3cEc",
        "colab_type": "code",
        "colab": {
          "base_uri": "https://localhost:8080/",
          "height": 34
        },
        "outputId": "efe3bcb8-23f1-4f5e-b677-b463865a9b41"
      },
      "source": [
        "y_train.shape"
      ],
      "execution_count": 13,
      "outputs": [
        {
          "output_type": "execute_result",
          "data": {
            "text/plain": [
              "(30,)"
            ]
          },
          "metadata": {
            "tags": []
          },
          "execution_count": 13
        }
      ]
    },
    {
      "cell_type": "code",
      "metadata": {
        "id": "Yl6fmPJj3cCX",
        "colab_type": "code",
        "colab": {}
      },
      "source": [
        "\n",
        "model=tf.keras.Sequential()\n",
        "model.add(tf.keras.layers.Dense(units=1,input_shape=[1]))\n",
        "\n"
      ],
      "execution_count": 0,
      "outputs": []
    },
    {
      "cell_type": "code",
      "metadata": {
        "id": "GUd71odB4v-i",
        "colab_type": "code",
        "colab": {
          "base_uri": "https://localhost:8080/",
          "height": 187
        },
        "outputId": "7c49887d-066a-4062-ae50-eabb9616b608"
      },
      "source": [
        "model.summary()"
      ],
      "execution_count": 54,
      "outputs": [
        {
          "output_type": "stream",
          "text": [
            "Model: \"sequential_11\"\n",
            "_________________________________________________________________\n",
            "Layer (type)                 Output Shape              Param #   \n",
            "=================================================================\n",
            "dense_15 (Dense)             (None, 1)                 2         \n",
            "=================================================================\n",
            "Total params: 2\n",
            "Trainable params: 2\n",
            "Non-trainable params: 0\n",
            "_________________________________________________________________\n"
          ],
          "name": "stdout"
        }
      ]
    },
    {
      "cell_type": "code",
      "metadata": {
        "id": "BYmvNpNw5Act",
        "colab_type": "code",
        "colab": {}
      },
      "source": [
        "\n",
        "model.compile(optimizer= tf.keras.optimizers.Adam(1),loss='mean_squared_error' )"
      ],
      "execution_count": 0,
      "outputs": []
    },
    {
      "cell_type": "code",
      "metadata": {
        "id": "tpia0VBS5Ljw",
        "colab_type": "code",
        "colab": {
          "base_uri": "https://localhost:8080/",
          "height": 1000
        },
        "outputId": "4247a436-4e41-499e-c0cd-88f238ff9fbd"
      },
      "source": [
        "epochs_hist = model.fit(X_train, y_train, epochs = 500)"
      ],
      "execution_count": 56,
      "outputs": [
        {
          "output_type": "stream",
          "text": [
            "Epoch 1/500\n",
            "30/30 [==============================] - 0s 2ms/sample - loss: 1193.0675\n",
            "Epoch 2/500\n",
            "30/30 [==============================] - 0s 191us/sample - loss: 1039.2589\n",
            "Epoch 3/500\n",
            "30/30 [==============================] - 0s 147us/sample - loss: 1040.8422\n",
            "Epoch 4/500\n",
            "30/30 [==============================] - 0s 77us/sample - loss: 863.6067\n",
            "Epoch 5/500\n",
            "30/30 [==============================] - 0s 122us/sample - loss: 790.0580\n",
            "Epoch 6/500\n",
            "30/30 [==============================] - 0s 132us/sample - loss: 799.8254\n",
            "Epoch 7/500\n",
            "30/30 [==============================] - 0s 128us/sample - loss: 743.9376\n",
            "Epoch 8/500\n",
            "30/30 [==============================] - 0s 101us/sample - loss: 641.2023\n",
            "Epoch 9/500\n",
            "30/30 [==============================] - 0s 113us/sample - loss: 576.4437\n",
            "Epoch 10/500\n",
            "30/30 [==============================] - 0s 113us/sample - loss: 560.8710\n",
            "Epoch 11/500\n",
            "30/30 [==============================] - 0s 111us/sample - loss: 535.3804\n",
            "Epoch 12/500\n",
            "30/30 [==============================] - 0s 103us/sample - loss: 473.7545\n",
            "Epoch 13/500\n",
            "30/30 [==============================] - 0s 96us/sample - loss: 409.2828\n",
            "Epoch 14/500\n",
            "30/30 [==============================] - 0s 112us/sample - loss: 374.4821\n",
            "Epoch 15/500\n",
            "30/30 [==============================] - 0s 95us/sample - loss: 358.7185\n",
            "Epoch 16/500\n",
            "30/30 [==============================] - 0s 149us/sample - loss: 330.4498\n",
            "Epoch 17/500\n",
            "30/30 [==============================] - 0s 100us/sample - loss: 284.7587\n",
            "Epoch 18/500\n",
            "30/30 [==============================] - 0s 117us/sample - loss: 243.9685\n",
            "Epoch 19/500\n",
            "30/30 [==============================] - 0s 85us/sample - loss: 222.5840\n",
            "Epoch 20/500\n",
            "30/30 [==============================] - 0s 100us/sample - loss: 209.1714\n",
            "Epoch 21/500\n",
            "30/30 [==============================] - 0s 130us/sample - loss: 186.1385\n",
            "Epoch 22/500\n",
            "30/30 [==============================] - 0s 97us/sample - loss: 154.9963\n",
            "Epoch 23/500\n",
            "30/30 [==============================] - 0s 99us/sample - loss: 130.6312\n",
            "Epoch 24/500\n",
            "30/30 [==============================] - 0s 101us/sample - loss: 118.6062\n",
            "Epoch 25/500\n",
            "30/30 [==============================] - 0s 95us/sample - loss: 108.7810\n",
            "Epoch 26/500\n",
            "30/30 [==============================] - 0s 86us/sample - loss: 91.9645\n",
            "Epoch 27/500\n",
            "30/30 [==============================] - 0s 128us/sample - loss: 72.6966\n",
            "Epoch 28/500\n",
            "30/30 [==============================] - 0s 87us/sample - loss: 60.3728\n",
            "Epoch 29/500\n",
            "30/30 [==============================] - 0s 106us/sample - loss: 54.9156\n",
            "Epoch 30/500\n",
            "30/30 [==============================] - 0s 129us/sample - loss: 48.1884\n",
            "Epoch 31/500\n",
            "30/30 [==============================] - 0s 122us/sample - loss: 37.0804\n",
            "Epoch 32/500\n",
            "30/30 [==============================] - 0s 123us/sample - loss: 27.1614\n",
            "Epoch 33/500\n",
            "30/30 [==============================] - 0s 129us/sample - loss: 22.8919\n",
            "Epoch 34/500\n",
            "30/30 [==============================] - 0s 106us/sample - loss: 20.9597\n",
            "Epoch 35/500\n",
            "30/30 [==============================] - 0s 102us/sample - loss: 16.3712\n",
            "Epoch 36/500\n",
            "30/30 [==============================] - 0s 102us/sample - loss: 10.2565\n",
            "Epoch 37/500\n",
            "30/30 [==============================] - 0s 103us/sample - loss: 7.0244\n",
            "Epoch 38/500\n",
            "30/30 [==============================] - 0s 136us/sample - loss: 6.8555\n",
            "Epoch 39/500\n",
            "30/30 [==============================] - 0s 103us/sample - loss: 5.9468\n",
            "Epoch 40/500\n",
            "30/30 [==============================] - 0s 99us/sample - loss: 3.0748\n",
            "Epoch 41/500\n",
            "30/30 [==============================] - 0s 100us/sample - loss: 1.0434\n",
            "Epoch 42/500\n",
            "30/30 [==============================] - 0s 97us/sample - loss: 1.4146\n",
            "Epoch 43/500\n",
            "30/30 [==============================] - 0s 124us/sample - loss: 2.0559\n",
            "Epoch 44/500\n",
            "30/30 [==============================] - 0s 100us/sample - loss: 1.1483\n",
            "Epoch 45/500\n",
            "30/30 [==============================] - 0s 131us/sample - loss: 0.0821\n",
            "Epoch 46/500\n",
            "30/30 [==============================] - 0s 90us/sample - loss: 0.5456\n",
            "Epoch 47/500\n",
            "30/30 [==============================] - 0s 150us/sample - loss: 1.5611\n",
            "Epoch 48/500\n",
            "30/30 [==============================] - 0s 137us/sample - loss: 1.5170\n",
            "Epoch 49/500\n",
            "30/30 [==============================] - 0s 129us/sample - loss: 0.9914\n",
            "Epoch 50/500\n",
            "30/30 [==============================] - 0s 128us/sample - loss: 1.3577\n",
            "Epoch 51/500\n",
            "30/30 [==============================] - 0s 96us/sample - loss: 2.2245\n",
            "Epoch 52/500\n",
            "30/30 [==============================] - 0s 98us/sample - loss: 2.3789\n",
            "Epoch 53/500\n",
            "30/30 [==============================] - 0s 137us/sample - loss: 2.0487\n",
            "Epoch 54/500\n",
            "30/30 [==============================] - 0s 115us/sample - loss: 2.2450\n",
            "Epoch 55/500\n",
            "30/30 [==============================] - 0s 113us/sample - loss: 2.8027\n",
            "Epoch 56/500\n",
            "30/30 [==============================] - 0s 98us/sample - loss: 2.8629\n",
            "Epoch 57/500\n",
            "30/30 [==============================] - 0s 282us/sample - loss: 2.5521\n",
            "Epoch 58/500\n",
            "30/30 [==============================] - 0s 214us/sample - loss: 2.5875\n",
            "Epoch 59/500\n",
            "30/30 [==============================] - 0s 265us/sample - loss: 2.8530\n",
            "Epoch 60/500\n",
            "30/30 [==============================] - 0s 218us/sample - loss: 2.7567\n",
            "Epoch 61/500\n",
            "30/30 [==============================] - 0s 165us/sample - loss: 2.4279\n",
            "Epoch 62/500\n",
            "30/30 [==============================] - 0s 138us/sample - loss: 2.3603\n",
            "Epoch 63/500\n",
            "30/30 [==============================] - 0s 111us/sample - loss: 2.4195\n",
            "Epoch 64/500\n",
            "30/30 [==============================] - 0s 184us/sample - loss: 2.2130\n",
            "Epoch 65/500\n",
            "30/30 [==============================] - 0s 91us/sample - loss: 1.8992\n",
            "Epoch 66/500\n",
            "30/30 [==============================] - 0s 119us/sample - loss: 1.7964\n",
            "Epoch 67/500\n",
            "30/30 [==============================] - 0s 68us/sample - loss: 1.7423\n",
            "Epoch 68/500\n",
            "30/30 [==============================] - 0s 91us/sample - loss: 1.5008\n",
            "Epoch 69/500\n",
            "30/30 [==============================] - 0s 101us/sample - loss: 1.2484\n",
            "Epoch 70/500\n",
            "30/30 [==============================] - 0s 101us/sample - loss: 1.1595\n",
            "Epoch 71/500\n",
            "30/30 [==============================] - 0s 104us/sample - loss: 1.0629\n",
            "Epoch 72/500\n",
            "30/30 [==============================] - 0s 93us/sample - loss: 0.8490\n",
            "Epoch 73/500\n",
            "30/30 [==============================] - 0s 136us/sample - loss: 0.6848\n",
            "Epoch 74/500\n",
            "30/30 [==============================] - 0s 122us/sample - loss: 0.6293\n",
            "Epoch 75/500\n",
            "30/30 [==============================] - 0s 118us/sample - loss: 0.5330\n",
            "Epoch 76/500\n",
            "30/30 [==============================] - 0s 188us/sample - loss: 0.3817\n",
            "Epoch 77/500\n",
            "30/30 [==============================] - 0s 149us/sample - loss: 0.3034\n",
            "Epoch 78/500\n",
            "30/30 [==============================] - 0s 152us/sample - loss: 0.2771\n",
            "Epoch 79/500\n",
            "30/30 [==============================] - 0s 184us/sample - loss: 0.2013\n",
            "Epoch 80/500\n",
            "30/30 [==============================] - 0s 159us/sample - loss: 0.1201\n",
            "Epoch 81/500\n",
            "30/30 [==============================] - 0s 170us/sample - loss: 0.1031\n",
            "Epoch 82/500\n",
            "30/30 [==============================] - 0s 179us/sample - loss: 0.0915\n",
            "Epoch 83/500\n",
            "30/30 [==============================] - 0s 156us/sample - loss: 0.0435\n",
            "Epoch 84/500\n",
            "30/30 [==============================] - 0s 163us/sample - loss: 0.0189\n",
            "Epoch 85/500\n",
            "30/30 [==============================] - 0s 157us/sample - loss: 0.0305\n",
            "Epoch 86/500\n",
            "30/30 [==============================] - 0s 169us/sample - loss: 0.0223\n",
            "Epoch 87/500\n",
            "30/30 [==============================] - 0s 148us/sample - loss: 0.0012\n",
            "Epoch 88/500\n",
            "30/30 [==============================] - 0s 184us/sample - loss: 0.0089\n",
            "Epoch 89/500\n",
            "30/30 [==============================] - 0s 181us/sample - loss: 0.0227\n",
            "Epoch 90/500\n",
            "30/30 [==============================] - 0s 167us/sample - loss: 0.0148\n",
            "Epoch 91/500\n",
            "30/30 [==============================] - 0s 141us/sample - loss: 0.0137\n",
            "Epoch 92/500\n",
            "30/30 [==============================] - 0s 133us/sample - loss: 0.0294\n",
            "Epoch 93/500\n",
            "30/30 [==============================] - 0s 110us/sample - loss: 0.0334\n",
            "Epoch 94/500\n",
            "30/30 [==============================] - 0s 142us/sample - loss: 0.0285\n",
            "Epoch 95/500\n",
            "30/30 [==============================] - 0s 147us/sample - loss: 0.0363\n",
            "Epoch 96/500\n",
            "30/30 [==============================] - 0s 121us/sample - loss: 0.0446\n",
            "Epoch 97/500\n",
            "30/30 [==============================] - 0s 138us/sample - loss: 0.0407\n",
            "Epoch 98/500\n",
            "30/30 [==============================] - 0s 144us/sample - loss: 0.0402\n",
            "Epoch 99/500\n",
            "30/30 [==============================] - 0s 118us/sample - loss: 0.0463\n",
            "Epoch 100/500\n",
            "30/30 [==============================] - 0s 168us/sample - loss: 0.0446\n",
            "Epoch 101/500\n",
            "30/30 [==============================] - 0s 203us/sample - loss: 0.0395\n",
            "Epoch 102/500\n",
            "30/30 [==============================] - 0s 114us/sample - loss: 0.0409\n",
            "Epoch 103/500\n",
            "30/30 [==============================] - 0s 93us/sample - loss: 0.0404\n",
            "Epoch 104/500\n",
            "30/30 [==============================] - 0s 110us/sample - loss: 0.0343\n",
            "Epoch 105/500\n",
            "30/30 [==============================] - 0s 126us/sample - loss: 0.0319\n",
            "Epoch 106/500\n",
            "30/30 [==============================] - 0s 118us/sample - loss: 0.0313\n",
            "Epoch 107/500\n",
            "30/30 [==============================] - 0s 110us/sample - loss: 0.0264\n",
            "Epoch 108/500\n",
            "30/30 [==============================] - 0s 199us/sample - loss: 0.0221\n",
            "Epoch 109/500\n",
            "30/30 [==============================] - 0s 128us/sample - loss: 0.0211\n",
            "Epoch 110/500\n",
            "30/30 [==============================] - 0s 147us/sample - loss: 0.0178\n",
            "Epoch 111/500\n",
            "30/30 [==============================] - 0s 96us/sample - loss: 0.0135\n",
            "Epoch 112/500\n",
            "30/30 [==============================] - 0s 127us/sample - loss: 0.0121\n",
            "Epoch 113/500\n",
            "30/30 [==============================] - 0s 121us/sample - loss: 0.0104\n",
            "Epoch 114/500\n",
            "30/30 [==============================] - 0s 111us/sample - loss: 0.0071\n",
            "Epoch 115/500\n",
            "30/30 [==============================] - 0s 138us/sample - loss: 0.0057\n",
            "Epoch 116/500\n",
            "30/30 [==============================] - 0s 114us/sample - loss: 0.0051\n",
            "Epoch 117/500\n",
            "30/30 [==============================] - 0s 160us/sample - loss: 0.0031\n",
            "Epoch 118/500\n",
            "30/30 [==============================] - 0s 119us/sample - loss: 0.0019\n",
            "Epoch 119/500\n",
            "30/30 [==============================] - 0s 119us/sample - loss: 0.0020\n",
            "Epoch 120/500\n",
            "30/30 [==============================] - 0s 136us/sample - loss: 0.0010\n",
            "Epoch 121/500\n",
            "30/30 [==============================] - 0s 156us/sample - loss: 3.0331e-04\n",
            "Epoch 122/500\n",
            "30/30 [==============================] - 0s 130us/sample - loss: 6.1930e-04\n",
            "Epoch 123/500\n",
            "30/30 [==============================] - 0s 119us/sample - loss: 4.3663e-04\n",
            "Epoch 124/500\n",
            "30/30 [==============================] - 0s 179us/sample - loss: 1.2690e-05\n",
            "Epoch 125/500\n",
            "30/30 [==============================] - 0s 127us/sample - loss: 3.8827e-04\n",
            "Epoch 126/500\n",
            "30/30 [==============================] - 0s 104us/sample - loss: 5.6788e-04\n",
            "Epoch 127/500\n",
            "30/30 [==============================] - 0s 122us/sample - loss: 3.4761e-04\n",
            "Epoch 128/500\n",
            "30/30 [==============================] - 0s 137us/sample - loss: 6.4355e-04\n",
            "Epoch 129/500\n",
            "30/30 [==============================] - 0s 112us/sample - loss: 9.2383e-04\n",
            "Epoch 130/500\n",
            "30/30 [==============================] - 0s 175us/sample - loss: 7.9279e-04\n",
            "Epoch 131/500\n",
            "30/30 [==============================] - 0s 107us/sample - loss: 9.5271e-04\n",
            "Epoch 132/500\n",
            "30/30 [==============================] - 0s 132us/sample - loss: 0.0012\n",
            "Epoch 133/500\n",
            "30/30 [==============================] - 0s 136us/sample - loss: 0.0011\n",
            "Epoch 134/500\n",
            "30/30 [==============================] - 0s 150us/sample - loss: 0.0011\n",
            "Epoch 135/500\n",
            "30/30 [==============================] - 0s 95us/sample - loss: 0.0012\n",
            "Epoch 136/500\n",
            "30/30 [==============================] - 0s 113us/sample - loss: 0.0011\n",
            "Epoch 137/500\n",
            "30/30 [==============================] - 0s 171us/sample - loss: 0.0010\n",
            "Epoch 138/500\n",
            "30/30 [==============================] - 0s 87us/sample - loss: 0.0011\n",
            "Epoch 139/500\n",
            "30/30 [==============================] - 0s 115us/sample - loss: 9.5226e-04\n",
            "Epoch 140/500\n",
            "30/30 [==============================] - 0s 176us/sample - loss: 8.3203e-04\n",
            "Epoch 141/500\n",
            "30/30 [==============================] - 0s 243us/sample - loss: 8.2488e-04\n",
            "Epoch 142/500\n",
            "30/30 [==============================] - 0s 119us/sample - loss: 6.9490e-04\n",
            "Epoch 143/500\n",
            "30/30 [==============================] - 0s 92us/sample - loss: 5.6632e-04\n",
            "Epoch 144/500\n",
            "30/30 [==============================] - 0s 89us/sample - loss: 5.3725e-04\n",
            "Epoch 145/500\n",
            "30/30 [==============================] - 0s 81us/sample - loss: 4.3103e-04\n",
            "Epoch 146/500\n",
            "30/30 [==============================] - 0s 96us/sample - loss: 3.2186e-04\n",
            "Epoch 147/500\n",
            "30/30 [==============================] - 0s 110us/sample - loss: 2.9574e-04\n",
            "Epoch 148/500\n",
            "30/30 [==============================] - 0s 109us/sample - loss: 2.2157e-04\n",
            "Epoch 149/500\n",
            "30/30 [==============================] - 0s 147us/sample - loss: 1.4389e-04\n",
            "Epoch 150/500\n",
            "30/30 [==============================] - 0s 189us/sample - loss: 1.3208e-04\n",
            "Epoch 151/500\n",
            "30/30 [==============================] - 0s 183us/sample - loss: 8.8865e-05\n",
            "Epoch 152/500\n",
            "30/30 [==============================] - 0s 153us/sample - loss: 4.2457e-05\n",
            "Epoch 153/500\n",
            "30/30 [==============================] - 0s 239us/sample - loss: 4.5737e-05\n",
            "Epoch 154/500\n",
            "30/30 [==============================] - 0s 235us/sample - loss: 2.6295e-05\n",
            "Epoch 155/500\n",
            "30/30 [==============================] - 0s 181us/sample - loss: 3.6929e-06\n",
            "Epoch 156/500\n",
            "30/30 [==============================] - 0s 168us/sample - loss: 1.6882e-05\n",
            "Epoch 157/500\n",
            "30/30 [==============================] - 0s 160us/sample - loss: 1.1582e-05\n",
            "Epoch 158/500\n",
            "30/30 [==============================] - 0s 177us/sample - loss: 3.3887e-06\n",
            "Epoch 159/500\n",
            "30/30 [==============================] - 0s 233us/sample - loss: 1.9782e-05\n",
            "Epoch 160/500\n",
            "30/30 [==============================] - 0s 146us/sample - loss: 2.0180e-05\n",
            "Epoch 161/500\n",
            "30/30 [==============================] - 0s 232us/sample - loss: 1.8310e-05\n",
            "Epoch 162/500\n",
            "30/30 [==============================] - 0s 234us/sample - loss: 3.2683e-05\n",
            "Epoch 163/500\n",
            "30/30 [==============================] - 0s 251us/sample - loss: 3.3183e-05\n",
            "Epoch 164/500\n",
            "30/30 [==============================] - 0s 208us/sample - loss: 3.2432e-05\n",
            "Epoch 165/500\n",
            "30/30 [==============================] - 0s 170us/sample - loss: 4.2151e-05\n",
            "Epoch 166/500\n",
            "30/30 [==============================] - 0s 93us/sample - loss: 4.0175e-05\n",
            "Epoch 167/500\n",
            "30/30 [==============================] - 0s 113us/sample - loss: 3.8330e-05\n",
            "Epoch 168/500\n",
            "30/30 [==============================] - 0s 684us/sample - loss: 4.3104e-05\n",
            "Epoch 169/500\n",
            "30/30 [==============================] - 0s 129us/sample - loss: 3.8581e-05\n",
            "Epoch 170/500\n",
            "30/30 [==============================] - 0s 193us/sample - loss: 3.5509e-05\n",
            "Epoch 171/500\n",
            "30/30 [==============================] - 0s 255us/sample - loss: 3.6499e-05\n",
            "Epoch 172/500\n",
            "30/30 [==============================] - 0s 122us/sample - loss: 3.0599e-05\n",
            "Epoch 173/500\n",
            "30/30 [==============================] - 0s 133us/sample - loss: 2.7162e-05\n",
            "Epoch 174/500\n",
            "30/30 [==============================] - 0s 129us/sample - loss: 2.6057e-05\n",
            "Epoch 175/500\n",
            "30/30 [==============================] - 0s 119us/sample - loss: 2.0180e-05\n",
            "Epoch 176/500\n",
            "30/30 [==============================] - 0s 132us/sample - loss: 1.7320e-05\n",
            "Epoch 177/500\n",
            "30/30 [==============================] - 0s 126us/sample - loss: 1.5550e-05\n",
            "Epoch 178/500\n",
            "30/30 [==============================] - 0s 119us/sample - loss: 1.0771e-05\n",
            "Epoch 179/500\n",
            "30/30 [==============================] - 0s 100us/sample - loss: 9.0358e-06\n",
            "Epoch 180/500\n",
            "30/30 [==============================] - 0s 196us/sample - loss: 7.4612e-06\n",
            "Epoch 181/500\n",
            "30/30 [==============================] - 0s 114us/sample - loss: 4.2444e-06\n",
            "Epoch 182/500\n",
            "30/30 [==============================] - 0s 89us/sample - loss: 3.6758e-06\n",
            "Epoch 183/500\n",
            "30/30 [==============================] - 0s 118us/sample - loss: 2.6410e-06\n",
            "Epoch 184/500\n",
            "30/30 [==============================] - 0s 110us/sample - loss: 9.1797e-07\n",
            "Epoch 185/500\n",
            "30/30 [==============================] - 0s 84us/sample - loss: 1.1966e-06\n",
            "Epoch 186/500\n",
            "30/30 [==============================] - 0s 120us/sample - loss: 6.4859e-07\n",
            "Epoch 187/500\n",
            "30/30 [==============================] - 0s 86us/sample - loss: 3.7150e-08\n",
            "Epoch 188/500\n",
            "30/30 [==============================] - 0s 79us/sample - loss: 7.1164e-07\n",
            "Epoch 189/500\n",
            "30/30 [==============================] - 0s 109us/sample - loss: 4.4603e-07\n",
            "Epoch 190/500\n",
            "30/30 [==============================] - 0s 109us/sample - loss: 4.7756e-07\n",
            "Epoch 191/500\n",
            "30/30 [==============================] - 0s 95us/sample - loss: 1.1467e-06\n",
            "Epoch 192/500\n",
            "30/30 [==============================] - 0s 112us/sample - loss: 9.6980e-07\n",
            "Epoch 193/500\n",
            "30/30 [==============================] - 0s 144us/sample - loss: 1.2444e-06\n",
            "Epoch 194/500\n",
            "30/30 [==============================] - 0s 223us/sample - loss: 1.6629e-06\n",
            "Epoch 195/500\n",
            "30/30 [==============================] - 0s 186us/sample - loss: 1.4719e-06\n",
            "Epoch 196/500\n",
            "30/30 [==============================] - 0s 237us/sample - loss: 1.7481e-06\n",
            "Epoch 197/500\n",
            "30/30 [==============================] - 0s 204us/sample - loss: 1.8473e-06\n",
            "Epoch 198/500\n",
            "30/30 [==============================] - 0s 168us/sample - loss: 1.6300e-06\n",
            "Epoch 199/500\n",
            "30/30 [==============================] - 0s 249us/sample - loss: 1.7815e-06\n",
            "Epoch 200/500\n",
            "30/30 [==============================] - 0s 142us/sample - loss: 1.6356e-06\n",
            "Epoch 201/500\n",
            "30/30 [==============================] - 0s 170us/sample - loss: 1.4265e-06\n",
            "Epoch 202/500\n",
            "30/30 [==============================] - 0s 110us/sample - loss: 1.4541e-06\n",
            "Epoch 203/500\n",
            "30/30 [==============================] - 0s 137us/sample - loss: 1.1956e-06\n",
            "Epoch 204/500\n",
            "30/30 [==============================] - 0s 102us/sample - loss: 1.0365e-06\n",
            "Epoch 205/500\n",
            "30/30 [==============================] - 0s 85us/sample - loss: 9.6825e-07\n",
            "Epoch 206/500\n",
            "30/30 [==============================] - 0s 181us/sample - loss: 7.0911e-07\n",
            "Epoch 207/500\n",
            "30/30 [==============================] - 0s 169us/sample - loss: 6.1550e-07\n",
            "Epoch 208/500\n",
            "30/30 [==============================] - 0s 156us/sample - loss: 5.1352e-07\n",
            "Epoch 209/500\n",
            "30/30 [==============================] - 0s 173us/sample - loss: 3.2501e-07\n",
            "Epoch 210/500\n",
            "30/30 [==============================] - 0s 146us/sample - loss: 2.9521e-07\n",
            "Epoch 211/500\n",
            "30/30 [==============================] - 0s 141us/sample - loss: 1.9294e-07\n",
            "Epoch 212/500\n",
            "30/30 [==============================] - 0s 150us/sample - loss: 1.0358e-07\n",
            "Epoch 213/500\n",
            "30/30 [==============================] - 0s 138us/sample - loss: 1.0871e-07\n",
            "Epoch 214/500\n",
            "30/30 [==============================] - 0s 286us/sample - loss: 3.4992e-08\n",
            "Epoch 215/500\n",
            "30/30 [==============================] - 0s 133us/sample - loss: 2.5482e-08\n",
            "Epoch 216/500\n",
            "30/30 [==============================] - 0s 223us/sample - loss: 3.7298e-08\n",
            "Epoch 217/500\n",
            "30/30 [==============================] - 0s 454us/sample - loss: 1.9826e-09\n",
            "Epoch 218/500\n",
            "30/30 [==============================] - 0s 559us/sample - loss: 3.1682e-08\n",
            "Epoch 219/500\n",
            "30/30 [==============================] - 0s 400us/sample - loss: 3.6444e-08\n",
            "Epoch 220/500\n",
            "30/30 [==============================] - 0s 170us/sample - loss: 3.1342e-08\n",
            "Epoch 221/500\n",
            "30/30 [==============================] - 0s 129us/sample - loss: 6.5839e-08\n",
            "Epoch 222/500\n",
            "30/30 [==============================] - 0s 134us/sample - loss: 6.0591e-08\n",
            "Epoch 223/500\n",
            "30/30 [==============================] - 0s 125us/sample - loss: 7.1051e-08\n",
            "Epoch 224/500\n",
            "30/30 [==============================] - 0s 168us/sample - loss: 8.8896e-08\n",
            "Epoch 225/500\n",
            "30/30 [==============================] - 0s 177us/sample - loss: 7.8947e-08\n",
            "Epoch 226/500\n",
            "30/30 [==============================] - 0s 156us/sample - loss: 9.0853e-08\n",
            "Epoch 227/500\n",
            "30/30 [==============================] - 0s 202us/sample - loss: 9.0600e-08\n",
            "Epoch 228/500\n",
            "30/30 [==============================] - 0s 151us/sample - loss: 7.9785e-08\n",
            "Epoch 229/500\n",
            "30/30 [==============================] - 0s 148us/sample - loss: 8.4900e-08\n",
            "Epoch 230/500\n",
            "30/30 [==============================] - 0s 240us/sample - loss: 7.1223e-08\n",
            "Epoch 231/500\n",
            "30/30 [==============================] - 0s 150us/sample - loss: 6.5284e-08\n",
            "Epoch 232/500\n",
            "30/30 [==============================] - 0s 142us/sample - loss: 6.1710e-08\n",
            "Epoch 233/500\n",
            "30/30 [==============================] - 0s 233us/sample - loss: 4.6999e-08\n",
            "Epoch 234/500\n",
            "30/30 [==============================] - 0s 195us/sample - loss: 4.3720e-08\n",
            "Epoch 235/500\n",
            "30/30 [==============================] - 0s 177us/sample - loss: 3.4279e-08\n",
            "Epoch 236/500\n",
            "30/30 [==============================] - 0s 135us/sample - loss: 2.4906e-08\n",
            "Epoch 237/500\n",
            "30/30 [==============================] - 0s 158us/sample - loss: 2.2571e-08\n",
            "Epoch 238/500\n",
            "30/30 [==============================] - 0s 168us/sample - loss: 1.3589e-08\n",
            "Epoch 239/500\n",
            "30/30 [==============================] - 0s 188us/sample - loss: 1.0514e-08\n",
            "Epoch 240/500\n",
            "30/30 [==============================] - 0s 101us/sample - loss: 8.1555e-09\n",
            "Epoch 241/500\n",
            "30/30 [==============================] - 0s 136us/sample - loss: 2.8261e-09\n",
            "Epoch 242/500\n",
            "30/30 [==============================] - 0s 123us/sample - loss: 4.0968e-09\n",
            "Epoch 243/500\n",
            "30/30 [==============================] - 0s 207us/sample - loss: 1.4897e-09\n",
            "Epoch 244/500\n",
            "30/30 [==============================] - 0s 117us/sample - loss: 8.2864e-10\n",
            "Epoch 245/500\n",
            "30/30 [==============================] - 0s 178us/sample - loss: 2.4880e-09\n",
            "Epoch 246/500\n",
            "30/30 [==============================] - 0s 192us/sample - loss: 5.5458e-10\n",
            "Epoch 247/500\n",
            "30/30 [==============================] - 0s 129us/sample - loss: 2.6755e-09\n",
            "Epoch 248/500\n",
            "30/30 [==============================] - 0s 109us/sample - loss: 2.7386e-09\n",
            "Epoch 249/500\n",
            "30/30 [==============================] - 0s 100us/sample - loss: 2.6679e-09\n",
            "Epoch 250/500\n",
            "30/30 [==============================] - 0s 218us/sample - loss: 4.4488e-09\n",
            "Epoch 251/500\n",
            "30/30 [==============================] - 0s 148us/sample - loss: 3.8343e-09\n",
            "Epoch 252/500\n",
            "30/30 [==============================] - 0s 151us/sample - loss: 4.7973e-09\n",
            "Epoch 253/500\n",
            "30/30 [==============================] - 0s 153us/sample - loss: 5.4792e-09\n",
            "Epoch 254/500\n",
            "30/30 [==============================] - 0s 170us/sample - loss: 4.7586e-09\n",
            "Epoch 255/500\n",
            "30/30 [==============================] - 0s 163us/sample - loss: 5.4445e-09\n",
            "Epoch 256/500\n",
            "30/30 [==============================] - 0s 164us/sample - loss: 4.8758e-09\n",
            "Epoch 257/500\n",
            "30/30 [==============================] - 0s 161us/sample - loss: 4.5590e-09\n",
            "Epoch 258/500\n",
            "30/30 [==============================] - 0s 170us/sample - loss: 4.3266e-09\n",
            "Epoch 259/500\n",
            "30/30 [==============================] - 0s 155us/sample - loss: 3.3323e-09\n",
            "Epoch 260/500\n",
            "30/30 [==============================] - 0s 168us/sample - loss: 3.2435e-09\n",
            "Epoch 261/500\n",
            "30/30 [==============================] - 0s 177us/sample - loss: 2.5395e-09\n",
            "Epoch 262/500\n",
            "30/30 [==============================] - 0s 148us/sample - loss: 2.2478e-09\n",
            "Epoch 263/500\n",
            "30/30 [==============================] - 0s 163us/sample - loss: 2.1079e-09\n",
            "Epoch 264/500\n",
            "30/30 [==============================] - 0s 157us/sample - loss: 1.4359e-09\n",
            "Epoch 265/500\n",
            "30/30 [==============================] - 0s 452us/sample - loss: 1.4551e-09\n",
            "Epoch 266/500\n",
            "30/30 [==============================] - 0s 142us/sample - loss: 1.0113e-09\n",
            "Epoch 267/500\n",
            "30/30 [==============================] - 0s 141us/sample - loss: 8.3689e-10\n",
            "Epoch 268/500\n",
            "30/30 [==============================] - 0s 174us/sample - loss: 7.6110e-10\n",
            "Epoch 269/500\n",
            "30/30 [==============================] - 0s 165us/sample - loss: 3.3703e-10\n",
            "Epoch 270/500\n",
            "30/30 [==============================] - 0s 172us/sample - loss: 5.1723e-10\n",
            "Epoch 271/500\n",
            "30/30 [==============================] - 0s 166us/sample - loss: 2.0582e-10\n",
            "Epoch 272/500\n",
            "30/30 [==============================] - 0s 172us/sample - loss: 1.8993e-10\n",
            "Epoch 273/500\n",
            "30/30 [==============================] - 0s 162us/sample - loss: 1.9030e-10\n",
            "Epoch 274/500\n",
            "30/30 [==============================] - 0s 137us/sample - loss: 6.3665e-13\n",
            "Epoch 275/500\n",
            "30/30 [==============================] - 0s 167us/sample - loss: 2.4099e-10\n",
            "Epoch 276/500\n",
            "30/30 [==============================] - 0s 164us/sample - loss: 9.9832e-11\n",
            "Epoch 277/500\n",
            "30/30 [==============================] - 0s 167us/sample - loss: 1.5319e-10\n",
            "Epoch 278/500\n",
            "30/30 [==============================] - 0s 165us/sample - loss: 2.2207e-10\n",
            "Epoch 279/500\n",
            "30/30 [==============================] - 0s 164us/sample - loss: 1.8520e-10\n",
            "Epoch 280/500\n",
            "30/30 [==============================] - 0s 166us/sample - loss: 3.6371e-10\n",
            "Epoch 281/500\n",
            "30/30 [==============================] - 0s 171us/sample - loss: 3.2175e-10\n",
            "Epoch 282/500\n",
            "30/30 [==============================] - 0s 150us/sample - loss: 3.4382e-10\n",
            "Epoch 283/500\n",
            "30/30 [==============================] - 0s 347us/sample - loss: 3.4382e-10\n",
            "Epoch 284/500\n",
            "30/30 [==============================] - 0s 122us/sample - loss: 2.9507e-10\n",
            "Epoch 285/500\n",
            "30/30 [==============================] - 0s 170us/sample - loss: 3.4346e-10\n",
            "Epoch 286/500\n",
            "30/30 [==============================] - 0s 179us/sample - loss: 2.9507e-10\n",
            "Epoch 287/500\n",
            "30/30 [==============================] - 0s 173us/sample - loss: 3.2357e-10\n",
            "Epoch 288/500\n",
            "30/30 [==============================] - 0s 159us/sample - loss: 2.5760e-10\n",
            "Epoch 289/500\n",
            "30/30 [==============================] - 0s 164us/sample - loss: 1.8520e-10\n",
            "Epoch 290/500\n",
            "30/30 [==============================] - 0s 161us/sample - loss: 1.6847e-10\n",
            "Epoch 291/500\n",
            "30/30 [==============================] - 0s 149us/sample - loss: 1.0056e-10\n",
            "Epoch 292/500\n",
            "30/30 [==============================] - 0s 151us/sample - loss: 5.7389e-11\n",
            "Epoch 293/500\n",
            "30/30 [==============================] - 0s 166us/sample - loss: 8.8433e-11\n",
            "Epoch 294/500\n",
            "30/30 [==============================] - 0s 131us/sample - loss: 1.4461e-11\n",
            "Epoch 295/500\n",
            "30/30 [==============================] - 0s 106us/sample - loss: 5.0022e-12\n",
            "Epoch 296/500\n",
            "30/30 [==============================] - 0s 80us/sample - loss: 2.1494e-11\n",
            "Epoch 297/500\n",
            "30/30 [==============================] - 0s 99us/sample - loss: 6.3665e-13\n",
            "Epoch 298/500\n",
            "30/30 [==============================] - 0s 122us/sample - loss: 6.3665e-13\n",
            "Epoch 299/500\n",
            "30/30 [==============================] - 0s 82us/sample - loss: 1.0217e-11\n",
            "Epoch 300/500\n",
            "30/30 [==============================] - 0s 89us/sample - loss: 1.0217e-11\n",
            "Epoch 301/500\n",
            "30/30 [==============================] - 0s 95us/sample - loss: 6.3665e-13\n",
            "Epoch 302/500\n",
            "30/30 [==============================] - 0s 108us/sample - loss: 6.3665e-13\n",
            "Epoch 303/500\n",
            "30/30 [==============================] - 0s 154us/sample - loss: 2.1494e-11\n",
            "Epoch 304/500\n",
            "30/30 [==============================] - 0s 145us/sample - loss: 6.3665e-13\n",
            "Epoch 305/500\n",
            "30/30 [==============================] - 0s 171us/sample - loss: 6.3665e-13\n",
            "Epoch 306/500\n",
            "30/30 [==============================] - 0s 165us/sample - loss: 1.0217e-11\n",
            "Epoch 307/500\n",
            "30/30 [==============================] - 0s 172us/sample - loss: 1.0217e-11\n",
            "Epoch 308/500\n",
            "30/30 [==============================] - 0s 171us/sample - loss: 6.3665e-13\n",
            "Epoch 309/500\n",
            "30/30 [==============================] - 0s 161us/sample - loss: 2.1494e-11\n",
            "Epoch 310/500\n",
            "30/30 [==============================] - 0s 175us/sample - loss: 6.3665e-13\n",
            "Epoch 311/500\n",
            "30/30 [==============================] - 0s 152us/sample - loss: 6.3665e-13\n",
            "Epoch 312/500\n",
            "30/30 [==============================] - 0s 160us/sample - loss: 1.0217e-11\n",
            "Epoch 313/500\n",
            "30/30 [==============================] - 0s 148us/sample - loss: 1.0217e-11\n",
            "Epoch 314/500\n",
            "30/30 [==============================] - 0s 160us/sample - loss: 6.3665e-13\n",
            "Epoch 315/500\n",
            "30/30 [==============================] - 0s 169us/sample - loss: 2.1494e-11\n",
            "Epoch 316/500\n",
            "30/30 [==============================] - 0s 161us/sample - loss: 6.3665e-13\n",
            "Epoch 317/500\n",
            "30/30 [==============================] - 0s 152us/sample - loss: 6.3665e-13\n",
            "Epoch 318/500\n",
            "30/30 [==============================] - 0s 171us/sample - loss: 1.0217e-11\n",
            "Epoch 319/500\n",
            "30/30 [==============================] - 0s 152us/sample - loss: 6.3665e-13\n",
            "Epoch 320/500\n",
            "30/30 [==============================] - 0s 175us/sample - loss: 6.3665e-13\n",
            "Epoch 321/500\n",
            "30/30 [==============================] - 0s 177us/sample - loss: 6.3665e-13\n",
            "Epoch 322/500\n",
            "30/30 [==============================] - 0s 171us/sample - loss: 6.3665e-13\n",
            "Epoch 323/500\n",
            "30/30 [==============================] - 0s 175us/sample - loss: 6.3665e-13\n",
            "Epoch 324/500\n",
            "30/30 [==============================] - 0s 164us/sample - loss: 6.3665e-13\n",
            "Epoch 325/500\n",
            "30/30 [==============================] - 0s 147us/sample - loss: 6.3665e-13\n",
            "Epoch 326/500\n",
            "30/30 [==============================] - 0s 169us/sample - loss: 6.3665e-13\n",
            "Epoch 327/500\n",
            "30/30 [==============================] - 0s 166us/sample - loss: 6.3665e-13\n",
            "Epoch 328/500\n",
            "30/30 [==============================] - 0s 173us/sample - loss: 6.3665e-13\n",
            "Epoch 329/500\n",
            "30/30 [==============================] - 0s 156us/sample - loss: 6.3665e-13\n",
            "Epoch 330/500\n",
            "30/30 [==============================] - 0s 156us/sample - loss: 6.3665e-13\n",
            "Epoch 331/500\n",
            "30/30 [==============================] - 0s 154us/sample - loss: 6.3665e-13\n",
            "Epoch 332/500\n",
            "30/30 [==============================] - 0s 157us/sample - loss: 6.3665e-13\n",
            "Epoch 333/500\n",
            "30/30 [==============================] - 0s 160us/sample - loss: 6.3665e-13\n",
            "Epoch 334/500\n",
            "30/30 [==============================] - 0s 170us/sample - loss: 6.3665e-13\n",
            "Epoch 335/500\n",
            "30/30 [==============================] - 0s 174us/sample - loss: 6.3665e-13\n",
            "Epoch 336/500\n",
            "30/30 [==============================] - 0s 140us/sample - loss: 6.3665e-13\n",
            "Epoch 337/500\n",
            "30/30 [==============================] - 0s 98us/sample - loss: 6.3665e-13\n",
            "Epoch 338/500\n",
            "30/30 [==============================] - 0s 126us/sample - loss: 6.3665e-13\n",
            "Epoch 339/500\n",
            "30/30 [==============================] - 0s 162us/sample - loss: 6.3665e-13\n",
            "Epoch 340/500\n",
            "30/30 [==============================] - 0s 169us/sample - loss: 6.3665e-13\n",
            "Epoch 341/500\n",
            "30/30 [==============================] - 0s 151us/sample - loss: 6.3665e-13\n",
            "Epoch 342/500\n",
            "30/30 [==============================] - 0s 154us/sample - loss: 6.3665e-13\n",
            "Epoch 343/500\n",
            "30/30 [==============================] - 0s 155us/sample - loss: 6.3665e-13\n",
            "Epoch 344/500\n",
            "30/30 [==============================] - 0s 161us/sample - loss: 6.3665e-13\n",
            "Epoch 345/500\n",
            "30/30 [==============================] - 0s 165us/sample - loss: 6.3665e-13\n",
            "Epoch 346/500\n",
            "30/30 [==============================] - 0s 181us/sample - loss: 6.3665e-13\n",
            "Epoch 347/500\n",
            "30/30 [==============================] - 0s 161us/sample - loss: 6.3665e-13\n",
            "Epoch 348/500\n",
            "30/30 [==============================] - 0s 168us/sample - loss: 6.3665e-13\n",
            "Epoch 349/500\n",
            "30/30 [==============================] - 0s 159us/sample - loss: 6.3665e-13\n",
            "Epoch 350/500\n",
            "30/30 [==============================] - 0s 170us/sample - loss: 6.3665e-13\n",
            "Epoch 351/500\n",
            "30/30 [==============================] - 0s 151us/sample - loss: 6.3665e-13\n",
            "Epoch 352/500\n",
            "30/30 [==============================] - 0s 163us/sample - loss: 6.3665e-13\n",
            "Epoch 353/500\n",
            "30/30 [==============================] - 0s 165us/sample - loss: 6.3665e-13\n",
            "Epoch 354/500\n",
            "30/30 [==============================] - 0s 172us/sample - loss: 6.3665e-13\n",
            "Epoch 355/500\n",
            "30/30 [==============================] - 0s 169us/sample - loss: 6.3665e-13\n",
            "Epoch 356/500\n",
            "30/30 [==============================] - 0s 161us/sample - loss: 6.3665e-13\n",
            "Epoch 357/500\n",
            "30/30 [==============================] - 0s 171us/sample - loss: 6.3665e-13\n",
            "Epoch 358/500\n",
            "30/30 [==============================] - 0s 165us/sample - loss: 6.3665e-13\n",
            "Epoch 359/500\n",
            "30/30 [==============================] - 0s 167us/sample - loss: 6.3665e-13\n",
            "Epoch 360/500\n",
            "30/30 [==============================] - 0s 171us/sample - loss: 6.3665e-13\n",
            "Epoch 361/500\n",
            "30/30 [==============================] - 0s 144us/sample - loss: 6.3665e-13\n",
            "Epoch 362/500\n",
            "30/30 [==============================] - 0s 155us/sample - loss: 6.3665e-13\n",
            "Epoch 363/500\n",
            "30/30 [==============================] - 0s 156us/sample - loss: 6.3665e-13\n",
            "Epoch 364/500\n",
            "30/30 [==============================] - 0s 176us/sample - loss: 6.3665e-13\n",
            "Epoch 365/500\n",
            "30/30 [==============================] - 0s 143us/sample - loss: 6.3665e-13\n",
            "Epoch 366/500\n",
            "30/30 [==============================] - 0s 246us/sample - loss: 6.3665e-13\n",
            "Epoch 367/500\n",
            "30/30 [==============================] - 0s 154us/sample - loss: 6.3665e-13\n",
            "Epoch 368/500\n",
            "30/30 [==============================] - 0s 157us/sample - loss: 6.3665e-13\n",
            "Epoch 369/500\n",
            "30/30 [==============================] - 0s 138us/sample - loss: 6.3665e-13\n",
            "Epoch 370/500\n",
            "30/30 [==============================] - 0s 159us/sample - loss: 6.3665e-13\n",
            "Epoch 371/500\n",
            "30/30 [==============================] - 0s 171us/sample - loss: 6.3665e-13\n",
            "Epoch 372/500\n",
            "30/30 [==============================] - 0s 155us/sample - loss: 6.3665e-13\n",
            "Epoch 373/500\n",
            "30/30 [==============================] - 0s 170us/sample - loss: 6.3665e-13\n",
            "Epoch 374/500\n",
            "30/30 [==============================] - 0s 170us/sample - loss: 6.3665e-13\n",
            "Epoch 375/500\n",
            "30/30 [==============================] - 0s 166us/sample - loss: 6.3665e-13\n",
            "Epoch 376/500\n",
            "30/30 [==============================] - 0s 156us/sample - loss: 6.3665e-13\n",
            "Epoch 377/500\n",
            "30/30 [==============================] - 0s 140us/sample - loss: 6.3665e-13\n",
            "Epoch 378/500\n",
            "30/30 [==============================] - 0s 150us/sample - loss: 6.3665e-13\n",
            "Epoch 379/500\n",
            "30/30 [==============================] - 0s 172us/sample - loss: 6.3665e-13\n",
            "Epoch 380/500\n",
            "30/30 [==============================] - 0s 171us/sample - loss: 6.3665e-13\n",
            "Epoch 381/500\n",
            "30/30 [==============================] - 0s 202us/sample - loss: 6.3665e-13\n",
            "Epoch 382/500\n",
            "30/30 [==============================] - 0s 193us/sample - loss: 6.3665e-13\n",
            "Epoch 383/500\n",
            "30/30 [==============================] - 0s 139us/sample - loss: 6.3665e-13\n",
            "Epoch 384/500\n",
            "30/30 [==============================] - 0s 171us/sample - loss: 6.3665e-13\n",
            "Epoch 385/500\n",
            "30/30 [==============================] - 0s 166us/sample - loss: 6.3665e-13\n",
            "Epoch 386/500\n",
            "30/30 [==============================] - 0s 156us/sample - loss: 6.3665e-13\n",
            "Epoch 387/500\n",
            "30/30 [==============================] - 0s 171us/sample - loss: 6.3665e-13\n",
            "Epoch 388/500\n",
            "30/30 [==============================] - 0s 157us/sample - loss: 6.3665e-13\n",
            "Epoch 389/500\n",
            "30/30 [==============================] - 0s 157us/sample - loss: 6.3665e-13\n",
            "Epoch 390/500\n",
            "30/30 [==============================] - 0s 149us/sample - loss: 6.3665e-13\n",
            "Epoch 391/500\n",
            "30/30 [==============================] - 0s 162us/sample - loss: 6.3665e-13\n",
            "Epoch 392/500\n",
            "30/30 [==============================] - 0s 163us/sample - loss: 6.3665e-13\n",
            "Epoch 393/500\n",
            "30/30 [==============================] - 0s 162us/sample - loss: 6.3665e-13\n",
            "Epoch 394/500\n",
            "30/30 [==============================] - 0s 170us/sample - loss: 6.3665e-13\n",
            "Epoch 395/500\n",
            "30/30 [==============================] - 0s 148us/sample - loss: 6.3665e-13\n",
            "Epoch 396/500\n",
            "30/30 [==============================] - 0s 135us/sample - loss: 6.3665e-13\n",
            "Epoch 397/500\n",
            "30/30 [==============================] - 0s 147us/sample - loss: 6.3665e-13\n",
            "Epoch 398/500\n",
            "30/30 [==============================] - 0s 135us/sample - loss: 6.3665e-13\n",
            "Epoch 399/500\n",
            "30/30 [==============================] - 0s 157us/sample - loss: 6.3665e-13\n",
            "Epoch 400/500\n",
            "30/30 [==============================] - 0s 165us/sample - loss: 6.3665e-13\n",
            "Epoch 401/500\n",
            "30/30 [==============================] - 0s 182us/sample - loss: 6.3665e-13\n",
            "Epoch 402/500\n",
            "30/30 [==============================] - 0s 144us/sample - loss: 6.3665e-13\n",
            "Epoch 403/500\n",
            "30/30 [==============================] - 0s 161us/sample - loss: 6.3665e-13\n",
            "Epoch 404/500\n",
            "30/30 [==============================] - 0s 132us/sample - loss: 6.3665e-13\n",
            "Epoch 405/500\n",
            "30/30 [==============================] - 0s 165us/sample - loss: 6.3665e-13\n",
            "Epoch 406/500\n",
            "30/30 [==============================] - 0s 141us/sample - loss: 6.3665e-13\n",
            "Epoch 407/500\n",
            "30/30 [==============================] - 0s 152us/sample - loss: 6.3665e-13\n",
            "Epoch 408/500\n",
            "30/30 [==============================] - 0s 146us/sample - loss: 6.3665e-13\n",
            "Epoch 409/500\n",
            "30/30 [==============================] - 0s 136us/sample - loss: 6.3665e-13\n",
            "Epoch 410/500\n",
            "30/30 [==============================] - 0s 155us/sample - loss: 6.3665e-13\n",
            "Epoch 411/500\n",
            "30/30 [==============================] - 0s 149us/sample - loss: 6.3665e-13\n",
            "Epoch 412/500\n",
            "30/30 [==============================] - 0s 141us/sample - loss: 6.3665e-13\n",
            "Epoch 413/500\n",
            "30/30 [==============================] - 0s 147us/sample - loss: 6.3665e-13\n",
            "Epoch 414/500\n",
            "30/30 [==============================] - 0s 156us/sample - loss: 6.3665e-13\n",
            "Epoch 415/500\n",
            "30/30 [==============================] - 0s 159us/sample - loss: 6.3665e-13\n",
            "Epoch 416/500\n",
            "30/30 [==============================] - 0s 161us/sample - loss: 6.3665e-13\n",
            "Epoch 417/500\n",
            "30/30 [==============================] - 0s 139us/sample - loss: 6.3665e-13\n",
            "Epoch 418/500\n",
            "30/30 [==============================] - 0s 160us/sample - loss: 6.3665e-13\n",
            "Epoch 419/500\n",
            "30/30 [==============================] - 0s 133us/sample - loss: 6.3665e-13\n",
            "Epoch 420/500\n",
            "30/30 [==============================] - 0s 136us/sample - loss: 6.3665e-13\n",
            "Epoch 421/500\n",
            "30/30 [==============================] - 0s 139us/sample - loss: 6.3665e-13\n",
            "Epoch 422/500\n",
            "30/30 [==============================] - 0s 141us/sample - loss: 6.3665e-13\n",
            "Epoch 423/500\n",
            "30/30 [==============================] - 0s 145us/sample - loss: 6.3665e-13\n",
            "Epoch 424/500\n",
            "30/30 [==============================] - 0s 132us/sample - loss: 6.3665e-13\n",
            "Epoch 425/500\n",
            "30/30 [==============================] - 0s 157us/sample - loss: 6.3665e-13\n",
            "Epoch 426/500\n",
            "30/30 [==============================] - 0s 165us/sample - loss: 6.3665e-13\n",
            "Epoch 427/500\n",
            "30/30 [==============================] - 0s 149us/sample - loss: 6.3665e-13\n",
            "Epoch 428/500\n",
            "30/30 [==============================] - 0s 144us/sample - loss: 6.3665e-13\n",
            "Epoch 429/500\n",
            "30/30 [==============================] - 0s 154us/sample - loss: 6.3665e-13\n",
            "Epoch 430/500\n",
            "30/30 [==============================] - 0s 138us/sample - loss: 6.3665e-13\n",
            "Epoch 431/500\n",
            "30/30 [==============================] - 0s 142us/sample - loss: 6.3665e-13\n",
            "Epoch 432/500\n",
            "30/30 [==============================] - 0s 148us/sample - loss: 6.3665e-13\n",
            "Epoch 433/500\n",
            "30/30 [==============================] - 0s 157us/sample - loss: 6.3665e-13\n",
            "Epoch 434/500\n",
            "30/30 [==============================] - 0s 136us/sample - loss: 6.3665e-13\n",
            "Epoch 435/500\n",
            "30/30 [==============================] - 0s 149us/sample - loss: 6.3665e-13\n",
            "Epoch 436/500\n",
            "30/30 [==============================] - 0s 206us/sample - loss: 6.3665e-13\n",
            "Epoch 437/500\n",
            "30/30 [==============================] - 0s 169us/sample - loss: 6.3665e-13\n",
            "Epoch 438/500\n",
            "30/30 [==============================] - 0s 154us/sample - loss: 6.3665e-13\n",
            "Epoch 439/500\n",
            "30/30 [==============================] - 0s 150us/sample - loss: 6.3665e-13\n",
            "Epoch 440/500\n",
            "30/30 [==============================] - 0s 162us/sample - loss: 6.3665e-13\n",
            "Epoch 441/500\n",
            "30/30 [==============================] - 0s 152us/sample - loss: 6.3665e-13\n",
            "Epoch 442/500\n",
            "30/30 [==============================] - 0s 153us/sample - loss: 6.3665e-13\n",
            "Epoch 443/500\n",
            "30/30 [==============================] - 0s 163us/sample - loss: 6.3665e-13\n",
            "Epoch 444/500\n",
            "30/30 [==============================] - 0s 144us/sample - loss: 6.3665e-13\n",
            "Epoch 445/500\n",
            "30/30 [==============================] - 0s 164us/sample - loss: 6.3665e-13\n",
            "Epoch 446/500\n",
            "30/30 [==============================] - 0s 164us/sample - loss: 6.3665e-13\n",
            "Epoch 447/500\n",
            "30/30 [==============================] - 0s 165us/sample - loss: 6.3665e-13\n",
            "Epoch 448/500\n",
            "30/30 [==============================] - 0s 158us/sample - loss: 6.3665e-13\n",
            "Epoch 449/500\n",
            "30/30 [==============================] - 0s 164us/sample - loss: 6.3665e-13\n",
            "Epoch 450/500\n",
            "30/30 [==============================] - 0s 160us/sample - loss: 6.3665e-13\n",
            "Epoch 451/500\n",
            "30/30 [==============================] - 0s 156us/sample - loss: 6.3665e-13\n",
            "Epoch 452/500\n",
            "30/30 [==============================] - 0s 157us/sample - loss: 6.3665e-13\n",
            "Epoch 453/500\n",
            "30/30 [==============================] - 0s 164us/sample - loss: 6.3665e-13\n",
            "Epoch 454/500\n",
            "30/30 [==============================] - 0s 156us/sample - loss: 6.3665e-13\n",
            "Epoch 455/500\n",
            "30/30 [==============================] - 0s 147us/sample - loss: 6.3665e-13\n",
            "Epoch 456/500\n",
            "30/30 [==============================] - 0s 157us/sample - loss: 6.3665e-13\n",
            "Epoch 457/500\n",
            "30/30 [==============================] - 0s 141us/sample - loss: 6.3665e-13\n",
            "Epoch 458/500\n",
            "30/30 [==============================] - 0s 129us/sample - loss: 6.3665e-13\n",
            "Epoch 459/500\n",
            "30/30 [==============================] - 0s 149us/sample - loss: 6.3665e-13\n",
            "Epoch 460/500\n",
            "30/30 [==============================] - 0s 183us/sample - loss: 6.3665e-13\n",
            "Epoch 461/500\n",
            "30/30 [==============================] - 0s 156us/sample - loss: 6.3665e-13\n",
            "Epoch 462/500\n",
            "30/30 [==============================] - 0s 168us/sample - loss: 6.3665e-13\n",
            "Epoch 463/500\n",
            "30/30 [==============================] - 0s 137us/sample - loss: 6.3665e-13\n",
            "Epoch 464/500\n",
            "30/30 [==============================] - 0s 139us/sample - loss: 6.3665e-13\n",
            "Epoch 465/500\n",
            "30/30 [==============================] - 0s 144us/sample - loss: 6.3665e-13\n",
            "Epoch 466/500\n",
            "30/30 [==============================] - 0s 153us/sample - loss: 6.3665e-13\n",
            "Epoch 467/500\n",
            "30/30 [==============================] - 0s 146us/sample - loss: 6.3665e-13\n",
            "Epoch 468/500\n",
            "30/30 [==============================] - 0s 149us/sample - loss: 6.3665e-13\n",
            "Epoch 469/500\n",
            "30/30 [==============================] - 0s 146us/sample - loss: 6.3665e-13\n",
            "Epoch 470/500\n",
            "30/30 [==============================] - 0s 173us/sample - loss: 6.3665e-13\n",
            "Epoch 471/500\n",
            "30/30 [==============================] - 0s 151us/sample - loss: 6.3665e-13\n",
            "Epoch 472/500\n",
            "30/30 [==============================] - 0s 164us/sample - loss: 6.3665e-13\n",
            "Epoch 473/500\n",
            "30/30 [==============================] - 0s 162us/sample - loss: 6.3665e-13\n",
            "Epoch 474/500\n",
            "30/30 [==============================] - 0s 156us/sample - loss: 6.3665e-13\n",
            "Epoch 475/500\n",
            "30/30 [==============================] - 0s 156us/sample - loss: 6.3665e-13\n",
            "Epoch 476/500\n",
            "30/30 [==============================] - 0s 156us/sample - loss: 6.3665e-13\n",
            "Epoch 477/500\n",
            "30/30 [==============================] - 0s 159us/sample - loss: 6.3665e-13\n",
            "Epoch 478/500\n",
            "30/30 [==============================] - 0s 160us/sample - loss: 6.3665e-13\n",
            "Epoch 479/500\n",
            "30/30 [==============================] - 0s 121us/sample - loss: 6.3665e-13\n",
            "Epoch 480/500\n",
            "30/30 [==============================] - 0s 98us/sample - loss: 6.3665e-13\n",
            "Epoch 481/500\n",
            "30/30 [==============================] - 0s 107us/sample - loss: 6.3665e-13\n",
            "Epoch 482/500\n",
            "30/30 [==============================] - 0s 153us/sample - loss: 6.3665e-13\n",
            "Epoch 483/500\n",
            "30/30 [==============================] - 0s 158us/sample - loss: 6.3665e-13\n",
            "Epoch 484/500\n",
            "30/30 [==============================] - 0s 163us/sample - loss: 6.3665e-13\n",
            "Epoch 485/500\n",
            "30/30 [==============================] - 0s 149us/sample - loss: 6.3665e-13\n",
            "Epoch 486/500\n",
            "30/30 [==============================] - 0s 163us/sample - loss: 6.3665e-13\n",
            "Epoch 487/500\n",
            "30/30 [==============================] - 0s 160us/sample - loss: 6.3665e-13\n",
            "Epoch 488/500\n",
            "30/30 [==============================] - 0s 162us/sample - loss: 6.3665e-13\n",
            "Epoch 489/500\n",
            "30/30 [==============================] - 0s 160us/sample - loss: 6.3665e-13\n",
            "Epoch 490/500\n",
            "30/30 [==============================] - 0s 162us/sample - loss: 6.3665e-13\n",
            "Epoch 491/500\n",
            "30/30 [==============================] - 0s 163us/sample - loss: 6.3665e-13\n",
            "Epoch 492/500\n",
            "30/30 [==============================] - 0s 152us/sample - loss: 6.3665e-13\n",
            "Epoch 493/500\n",
            "30/30 [==============================] - 0s 158us/sample - loss: 6.3665e-13\n",
            "Epoch 494/500\n",
            "30/30 [==============================] - 0s 156us/sample - loss: 6.3665e-13\n",
            "Epoch 495/500\n",
            "30/30 [==============================] - 0s 163us/sample - loss: 6.3665e-13\n",
            "Epoch 496/500\n",
            "30/30 [==============================] - 0s 156us/sample - loss: 6.3665e-13\n",
            "Epoch 497/500\n",
            "30/30 [==============================] - 0s 156us/sample - loss: 6.3665e-13\n",
            "Epoch 498/500\n",
            "30/30 [==============================] - 0s 163us/sample - loss: 6.3665e-13\n",
            "Epoch 499/500\n",
            "30/30 [==============================] - 0s 159us/sample - loss: 6.3665e-13\n",
            "Epoch 500/500\n",
            "30/30 [==============================] - 0s 139us/sample - loss: 6.3665e-13\n"
          ],
          "name": "stdout"
        }
      ]
    },
    {
      "cell_type": "markdown",
      "metadata": {
        "id": "-wRQqOeB5Zh5",
        "colab_type": "text"
      },
      "source": [
        "# STEP#5: EVALUATING THE MODEL "
      ]
    },
    {
      "cell_type": "code",
      "metadata": {
        "id": "dfUb63035TJL",
        "colab_type": "code",
        "colab": {
          "base_uri": "https://localhost:8080/",
          "height": 34
        },
        "outputId": "66c4351f-a584-4c01-ff46-27b0e95f65f1"
      },
      "source": [
        "epochs_hist.history.keys()"
      ],
      "execution_count": 57,
      "outputs": [
        {
          "output_type": "execute_result",
          "data": {
            "text/plain": [
              "dict_keys(['loss'])"
            ]
          },
          "metadata": {
            "tags": []
          },
          "execution_count": 57
        }
      ]
    },
    {
      "cell_type": "code",
      "metadata": {
        "id": "eXiDop_l5erJ",
        "colab_type": "code",
        "colab": {
          "base_uri": "https://localhost:8080/",
          "height": 312
        },
        "outputId": "74ce9921-d825-42d9-cc0f-70c87b887754"
      },
      "source": [
        "plt.plot(epochs_hist.history['loss'])\n",
        "plt.title('Model Loss Progress During Training')\n",
        "plt.xlabel('Epoch')\n",
        "plt.ylabel('Training Loss')\n",
        "plt.legend(['Training Loss'])\n",
        "\n",
        "#after around 50 epochs seems like training loss doesn't change\n"
      ],
      "execution_count": 58,
      "outputs": [
        {
          "output_type": "execute_result",
          "data": {
            "text/plain": [
              "<matplotlib.legend.Legend at 0x7fdb419c5438>"
            ]
          },
          "metadata": {
            "tags": []
          },
          "execution_count": 58
        },
        {
          "output_type": "display_data",
          "data": {
            "image/png": "[encoded data removed]",
            "text/plain": [
              "<Figure size 432x288 with 1 Axes>"
            ]
          },
          "metadata": {
            "tags": []
          }
        }
      ]
    },
    {
      "cell_type": "code",
      "metadata": {
        "id": "yFYpuUJWBn6L",
        "colab_type": "code",
        "colab": {
          "base_uri": "https://localhost:8080/",
          "height": 34
        },
        "outputId": "57993c88-8c97-4dab-db9e-e501bc2451d7"
      },
      "source": [
        "model.get_weights()  #values are similar to actual celcius to fahrenheit equation wher 1.8 ~ 9/5"
      ],
      "execution_count": 59,
      "outputs": [
        {
          "output_type": "execute_result",
          "data": {
            "text/plain": [
              "[array([[1.8000001]], dtype=float32), array([32.], dtype=float32)]"
            ]
          },
          "metadata": {
            "tags": []
          },
          "execution_count": 59
        }
      ]
    },
    {
      "cell_type": "code",
      "metadata": {
        "id": "isfjfT735fjD",
        "colab_type": "code",
        "colab": {
          "base_uri": "https://localhost:8080/",
          "height": 34
        },
        "outputId": "e8b014de-959d-4bba-9ae4-ba92963f83c3"
      },
      "source": [
        "# Use the trained model to perform predictions\n",
        "\n",
        "Temp_C = 0\n",
        "Temp_F = model.predict([Temp_C])\n",
        "print('Temperature in degF Using Trained ANN =', Temp_F)\n"
      ],
      "execution_count": 60,
      "outputs": [
        {
          "output_type": "stream",
          "text": [
            "Temperature in degF Using Trained ANN = [[32.]]\n"
          ],
          "name": "stdout"
        }
      ]
    },
    {
      "cell_type": "code",
      "metadata": {
        "id": "mfP_j7LaDjNR",
        "colab_type": "code",
        "colab": {
          "base_uri": "https://localhost:8080/",
          "height": 34
        },
        "outputId": "86dd4fb8-d90f-4e8c-80b1-38bd2fe162ea"
      },
      "source": [
        "# Let's confirm this Using the equation: \n",
        "Temp_F = 9/5 * Temp_C + 32\n",
        "print('Temperature in degF Using Equation =', Temp_F)\n"
      ],
      "execution_count": 61,
      "outputs": [
        {
          "output_type": "stream",
          "text": [
            "Temperature in degF Using Equation = 32.0\n"
          ],
          "name": "stdout"
        }
      ]
    }
  ]
}